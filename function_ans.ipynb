{
 "cells": [
  {
   "attachments": {},
   "cell_type": "markdown",
   "id": "3189341c",
   "metadata": {},
   "source": [
    "# 數學中的 Functions"
   ]
  },
  {
   "attachments": {},
   "cell_type": "markdown",
   "id": "9149bcbf",
   "metadata": {},
   "source": [
    "$f(x) = x^2$"
   ]
  },
  {
   "cell_type": "code",
   "execution_count": null,
   "id": "4c4d7a85",
   "metadata": {},
   "outputs": [],
   "source": [
    "def f(x):\n",
    "    y = x ** 2\n",
    "    return y"
   ]
  },
  {
   "cell_type": "code",
   "execution_count": null,
   "id": "f577df6e",
   "metadata": {},
   "outputs": [],
   "source": [
    "f(10)"
   ]
  },
  {
   "attachments": {},
   "cell_type": "markdown",
   "id": "3c22f6fe",
   "metadata": {},
   "source": [
    "$g(x,y)=x^2+2xy+y^3$"
   ]
  },
  {
   "cell_type": "code",
   "execution_count": null,
   "id": "1c01b6f8",
   "metadata": {},
   "outputs": [],
   "source": [
    "def g(x, y):\n",
    "    z = x ** 2 + 2 * x * y + y ** 3\n",
    "    return z"
   ]
  },
  {
   "cell_type": "code",
   "execution_count": null,
   "id": "2f9c6425",
   "metadata": {},
   "outputs": [],
   "source": [
    "f(1.5)"
   ]
  },
  {
   "attachments": {},
   "cell_type": "markdown",
   "id": "21246684",
   "metadata": {},
   "source": [
    "# 如何在 Python 中定義 Functions"
   ]
  },
  {
   "cell_type": "code",
   "execution_count": null,
   "id": "5ff2ac26",
   "metadata": {},
   "outputs": [],
   "source": [
    "def add1(x):\n",
    "    result = x + 1\n",
    "    return result\n",
    "\n",
    "def sum_two(a, b):\n",
    "    result = a + b\n",
    "    return result"
   ]
  },
  {
   "attachments": {},
   "cell_type": "markdown",
   "id": "a58a73a6",
   "metadata": {},
   "source": [
    "## 函式呼叫"
   ]
  },
  {
   "cell_type": "code",
   "execution_count": null,
   "id": "446e4559",
   "metadata": {},
   "outputs": [],
   "source": [
    "sum_two(1, 2) # 直接寫死"
   ]
  },
  {
   "cell_type": "code",
   "execution_count": null,
   "id": "bdf3a39b",
   "metadata": {},
   "outputs": [],
   "source": [
    "a = 1\n",
    "b = 2\n",
    "sum_two(a, b) # 透過變數傳入"
   ]
  },
  {
   "cell_type": "code",
   "execution_count": null,
   "id": "28a83806",
   "metadata": {},
   "outputs": [],
   "source": [
    "sum_two(a=10, b=20) # Keyword Arguments"
   ]
  },
  {
   "cell_type": "code",
   "execution_count": null,
   "id": "d0169c13",
   "metadata": {},
   "outputs": [],
   "source": [
    "sum_two(b=10, a=40) # 不需要考慮順序"
   ]
  },
  {
   "cell_type": "code",
   "execution_count": null,
   "id": "56b60796",
   "metadata": {},
   "outputs": [],
   "source": [
    "def 相加(a, b):\n",
    "    result = a + b\n",
    "    return result\n",
    "\n",
    "相加(1, 2)"
   ]
  },
  {
   "attachments": {},
   "cell_type": "markdown",
   "id": "9991f4f1",
   "metadata": {},
   "source": [
    "## It's your turn! 🫵\n",
    "\n",
    "你現在在設計一款聊天機器人，你的組員想要你幫忙寫一個 Function。這個 Function 的輸入是兩個地點的座標，輸出是兩個地點距離的平方。\n",
    "\n",
    "- 函數名為 `f`\n",
    "- 兩個參數 `a, b`，皆為 list 或是 tuple，代表兩個地點的座標\n",
    "- list 或 tuple 內的數字為 int\n",
    "- 用一個變數 `result` 紀錄距離的平方\n",
    "- 將 `result` 回傳"
   ]
  },
  {
   "cell_type": "code",
   "execution_count": null,
   "id": "3afeee73",
   "metadata": {},
   "outputs": [],
   "source": [
    "def f(a, b):\n",
    "    x0, y0 = a\n",
    "    x1, y1 = b\n",
    "    result = (x0 - x1) ** 2 + (y0 - y1) ** 2\n",
    "    return result"
   ]
  },
  {
   "attachments": {},
   "cell_type": "markdown",
   "id": "07ea31ed",
   "metadata": {},
   "source": [
    "# Docstring"
   ]
  },
  {
   "cell_type": "code",
   "execution_count": null,
   "id": "3ad3875d",
   "metadata": {},
   "outputs": [],
   "source": [
    "def sum_two(num1, num2):\n",
    "    \"\"\"A function that adds two numbers together\n",
    "\n",
    "    Args:\n",
    "        num1 (int): The first number\n",
    "        num2 (int): The second number\n",
    "    \n",
    "    Returns:\n",
    "        int: The sum of the two numbers\n",
    "    \"\"\"\n",
    "    result = num1 + num2\n",
    "\n",
    "    return result"
   ]
  },
  {
   "cell_type": "code",
   "execution_count": null,
   "id": "3e508c7c",
   "metadata": {},
   "outputs": [],
   "source": [
    "help(sum_two)"
   ]
  },
  {
   "cell_type": "code",
   "execution_count": null,
   "id": "a0eb0327",
   "metadata": {},
   "outputs": [],
   "source": [
    "print(sum_two.__doc__)"
   ]
  },
  {
   "cell_type": "code",
   "execution_count": null,
   "id": "3e665ee4",
   "metadata": {},
   "outputs": [],
   "source": [
    "sum_two(1, 2)"
   ]
  },
  {
   "attachments": {},
   "cell_type": "markdown",
   "id": "90c427c7",
   "metadata": {},
   "source": [
    "# Type Hints"
   ]
  },
  {
   "cell_type": "code",
   "execution_count": null,
   "id": "5462173a",
   "metadata": {},
   "outputs": [],
   "source": [
    "def sum_two(num1: int, num2: int) -> int:\n",
    "    \"\"\"A function that adds two numbers together\n",
    "\n",
    "    Args:\n",
    "        num1 (int): The first number\n",
    "        num2 (int): The second number\n",
    "    \n",
    "    Returns:\n",
    "        int: The sum of the two numbers\n",
    "    \"\"\"\n",
    "    result = num1 + num2\n",
    "\n",
    "    return result"
   ]
  },
  {
   "cell_type": "code",
   "execution_count": null,
   "id": "9a77532a",
   "metadata": {},
   "outputs": [],
   "source": [
    "from typing import List\n",
    "\n",
    "def sum_list(arr: List[int]) -> int:\n",
    "    \"\"\"A function that sums a list of numbers\n",
    "\n",
    "    Args:\n",
    "        arr (List[int]): A list of numbers\n",
    "\n",
    "    Returns:\n",
    "        int: The sum of the numbers in the list\n",
    "    \"\"\"\n",
    "    total = 0\n",
    "    for num in arr:\n",
    "        total += num\n",
    "    return total"
   ]
  },
  {
   "cell_type": "code",
   "execution_count": null,
   "id": "d21b9d70",
   "metadata": {},
   "outputs": [],
   "source": [
    "from typing import List, Union, Tuple\n",
    "\n",
    "def sum_list_tuple(arr: Union[List[int], Tuple[int]]) -> int:\n",
    "    \"\"\"A function that sums a list of numbers\n",
    "\n",
    "    Args:\n",
    "        arr Union[List[int], Tuple[int]]: A list or tuple of numbers\n",
    "\n",
    "    Returns:\n",
    "        int: The sum of the numbers in the list\n",
    "    \"\"\"\n",
    "    total = 0\n",
    "    for num in arr:\n",
    "        total += num\n",
    "    return total"
   ]
  },
  {
   "attachments": {},
   "cell_type": "markdown",
   "id": "135d3f47",
   "metadata": {},
   "source": [
    "## It's your turn! 🫵\n",
    "\n",
    "修改剛剛的 `f` 函式\n",
    "\n",
    "- 重新命名函式，讓名字符合函式的功能，例如 `calc_distance`\n",
    "- 將縮排改為四個空白字元\n",
    "- 重新命名參數，讓參數更一目瞭然\n",
    "- 將參數和回傳值加上 Type Hints\n",
    "- 幫函式加上 docstring\n",
    "- 如果有額外變數，修改為有意義的單字\n",
    "- 函式功能不變"
   ]
  },
  {
   "cell_type": "code",
   "execution_count": null,
   "id": "83064bd3",
   "metadata": {},
   "outputs": [],
   "source": [
    "from typing import List, Union, Tuple\n",
    "\n",
    "def calc_distance(cord1: Union[List[int], Tuple[int]], cord2: Union[List[int], Tuple[int]]) -> int:\n",
    "    \"\"\"A helper function to calculate the distance between two points\n",
    "    \n",
    "    Args:\n",
    "        cord1 (Union[List[int], Tuple[int]]): The first point\n",
    "        cord2 (Union[List[int], Tuple[int]]): The second point\n",
    "    \n",
    "    Returns:\n",
    "        int: The distance between the two points\n",
    "    \"\"\"\n",
    "\n",
    "    x0, y0 = cord1\n",
    "    x1, y1 = cord2\n",
    "\n",
    "    result = (x0 - x1) ** 2 + (y0 - y1) ** 2\n",
    "\n",
    "    return result"
   ]
  },
  {
   "attachments": {},
   "cell_type": "markdown",
   "id": "4dcb6510",
   "metadata": {},
   "source": [
    "# 參數預設值"
   ]
  },
  {
   "cell_type": "code",
   "execution_count": null,
   "id": "7ed854ca",
   "metadata": {},
   "outputs": [],
   "source": [
    "def hello(name: str, greeting: str=\"Hello\"):\n",
    "    print(f\"{greeting}, {name}!\")"
   ]
  },
  {
   "cell_type": "code",
   "execution_count": null,
   "id": "74713842",
   "metadata": {},
   "outputs": [],
   "source": [
    "hello(\"Jay\")"
   ]
  },
  {
   "cell_type": "code",
   "execution_count": null,
   "id": "28f491f4",
   "metadata": {},
   "outputs": [],
   "source": [
    "hello(greeting=\"Hi\", name=\"Jay\")"
   ]
  },
  {
   "cell_type": "code",
   "execution_count": null,
   "id": "13580895",
   "metadata": {},
   "outputs": [],
   "source": [
    "hello(\"Jay\", greeting=\"Hi\")"
   ]
  },
  {
   "attachments": {},
   "cell_type": "markdown",
   "id": "f73a0139",
   "metadata": {},
   "source": [
    "## It's your turn! 🫵\n",
    "\n",
    "修改的 `calc_distance` 函式\n",
    "\n",
    "- 新功能: 印出距離和對應的單位\n",
    "- 新參數 `unit`\n",
    "    - 字串\n",
    "    - 可以不指定單位\n",
    "    - 預設值為 `km`\n",
    "    - 記得標 type hints\n",
    "- 回傳值不變"
   ]
  },
  {
   "cell_type": "code",
   "execution_count": null,
   "id": "055e9dc6",
   "metadata": {},
   "outputs": [],
   "source": [
    "from typing import List, Union, Tuple\n",
    "\n",
    "def calc_distance(cord1: Union[List[int], Tuple[int]], cord2: Union[List[int], Tuple[int]], unit: str=\"km\") -> int:\n",
    "    \"\"\"A helper function to calculate the distance between two points and print the result\n",
    "\n",
    "    Args:\n",
    "        cord1 (Union[List[int], Tuple[int]]): The first point\n",
    "        cord2 (Union[List[int], Tuple[int]]): The second point\n",
    "        unit (str, optional): The unit of the distance. Defaults to \"km\".\n",
    "    \n",
    "    Returns:\n",
    "        int: The distance between the two points\n",
    "    \"\"\"\n",
    "\n",
    "    x0, y0 = cord1\n",
    "    x1, y1 = cord2\n",
    "\n",
    "    result = (x0 - x1) ** 2 + (y0 - y1) ** 2\n",
    "    print(f\"Distance: {result} {unit}^2\")\n",
    "\n",
    "    return result"
   ]
  },
  {
   "cell_type": "code",
   "execution_count": null,
   "id": "37a648c4",
   "metadata": {},
   "outputs": [],
   "source": [
    "calc_distance((0, 0), (1, 1))"
   ]
  },
  {
   "cell_type": "code",
   "execution_count": null,
   "id": "f5fc5f10",
   "metadata": {},
   "outputs": [],
   "source": [
    "calc_distance((0, 0), (1, 1), unit=\"m\")"
   ]
  },
  {
   "cell_type": "code",
   "execution_count": null,
   "id": "191ee314",
   "metadata": {},
   "outputs": [],
   "source": [
    "calc_distance((0, 0), (3, 4), \"cm\")"
   ]
  },
  {
   "attachments": {},
   "cell_type": "markdown",
   "id": "a8bb1f8d",
   "metadata": {},
   "source": [
    "# Unpacking"
   ]
  },
  {
   "cell_type": "code",
   "execution_count": null,
   "id": "cc8419a8",
   "metadata": {},
   "outputs": [],
   "source": [
    "def sum_two(num1: int, num2: int) -> int:\n",
    "    \"\"\"A function that adds two numbers together\n",
    "\n",
    "    Args:\n",
    "        num1 (int): The first number\n",
    "        num2 (int): The second number\n",
    "    \n",
    "    Returns:\n",
    "        int: The sum of the two numbers\n",
    "    \"\"\"\n",
    "    result = num1 + num2\n",
    "\n",
    "    return result\n",
    "\n",
    "\n",
    "\n",
    "in2 = {\"b\": 1, \"a\": 2}\n",
    "sum_two(**in2)"
   ]
  },
  {
   "attachments": {},
   "cell_type": "markdown",
   "id": "5cc85b8f",
   "metadata": {},
   "source": [
    "## It's your turn! 🫵\n",
    "\n",
    "- 試著定義一個 list 和 dict，將它們利用 unpack 進 `calc_distance`"
   ]
  },
  {
   "cell_type": "code",
   "execution_count": null,
   "id": "6b480971",
   "metadata": {},
   "outputs": [],
   "source": [
    "in1 = ((2, 3), (4, 5), \"mm\")\n",
    "calc_distance(*in1)"
   ]
  },
  {
   "cell_type": "code",
   "execution_count": null,
   "id": "2696b061",
   "metadata": {},
   "outputs": [],
   "source": [
    "in2 = {\n",
    "    \"cord1\": (2, 3),\n",
    "    \"cord2\": (4, 5),\n",
    "    \"unit\": \"cm\"\n",
    "}\n",
    "calc_distance(**in2)"
   ]
  },
  {
   "attachments": {},
   "cell_type": "markdown",
   "id": "90558db5",
   "metadata": {},
   "source": [
    "# Scope"
   ]
  },
  {
   "cell_type": "code",
   "execution_count": null,
   "id": "a8062596",
   "metadata": {},
   "outputs": [],
   "source": [
    "def sum_two(num1: int, num2: int) -> int:\n",
    "    \"\"\"A function that adds two numbers together\n",
    "\n",
    "    Args:\n",
    "        num1 (int): The first number\n",
    "        num2 (int): The second number\n",
    "    \n",
    "    Returns:\n",
    "        int: The sum of the two numbers\n",
    "    \"\"\"\n",
    "    result = num1 + num2\n",
    "    print(result)\n",
    "\n",
    "    return result"
   ]
  },
  {
   "cell_type": "code",
   "execution_count": null,
   "id": "95e9b585",
   "metadata": {},
   "outputs": [],
   "source": [
    "sum_two(1, 2)\n",
    "# print(result)"
   ]
  },
  {
   "cell_type": "code",
   "execution_count": null,
   "id": "ec6fb1ef",
   "metadata": {},
   "outputs": [],
   "source": [
    "global_num = 123\n",
    "\n",
    "def f():\n",
    "    global_num = 456\n",
    "    print(f\"The value of global_num inside function is {global_num}\")\n",
    "\n",
    "f()\n",
    "print(f\"The value of global_num outside function is {global_num}\")"
   ]
  },
  {
   "cell_type": "code",
   "execution_count": null,
   "id": "120ec07d",
   "metadata": {},
   "outputs": [],
   "source": [
    "\n",
    "global_num = 123\n",
    "\n",
    "def f():\n",
    "    global global_num\n",
    "    global_num = 456\n",
    "    print(f\"The value of global_num inside function is {global_num}\")\n",
    "\n",
    "f()\n",
    "print(f\"The value of global_num outside function is {global_num}\")"
   ]
  }
 ],
 "metadata": {
  "kernelspec": {
   "display_name": "Python 3 (ipykernel)",
   "language": "python",
   "name": "python3"
  },
  "language_info": {
   "codemirror_mode": {
    "name": "ipython",
    "version": 3
   },
   "file_extension": ".py",
   "mimetype": "text/x-python",
   "name": "python",
   "nbconvert_exporter": "python",
   "pygments_lexer": "ipython3",
   "version": "3.10.10"
  }
 },
 "nbformat": 4,
 "nbformat_minor": 5
}
